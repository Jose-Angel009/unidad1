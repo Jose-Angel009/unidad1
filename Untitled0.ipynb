{
  "nbformat": 4,
  "nbformat_minor": 0,
  "metadata": {
    "colab": {
      "provenance": [],
      "authorship_tag": "ABX9TyN3tLeVkBTRurMDaPin4+7D",
      "include_colab_link": true
    },
    "kernelspec": {
      "name": "python3",
      "display_name": "Python 3"
    },
    "language_info": {
      "name": "python"
    }
  },
  "cells": [
    {
      "cell_type": "markdown",
      "metadata": {
        "id": "view-in-github",
        "colab_type": "text"
      },
      "source": [
        "<a href=\"https://colab.research.google.com/github/Jose-Angel009/unidad1/blob/main/Untitled0.ipynb\" target=\"_parent\"><img src=\"https://colab.research.google.com/assets/colab-badge.svg\" alt=\"Open In Colab\"/></a>"
      ]
    },
    {
      "cell_type": "code",
      "execution_count": null,
      "metadata": {
        "id": "LSHTilRArg9F"
      },
      "outputs": [],
      "source": []
    },
    {
      "cell_type": "markdown",
      "source": [
        "Practica 2 Numpy\n",
        "Raul Zamora Valles 5F\n",
        "Fecha 09 de septiembre de 2025\n",
        "-----------------\n",
        "Como verificar el numero de dimenciones.Numpy proporciones el atributo ndim que devuelve un numero entero que nos dice cuantas\n",
        "dimenciones tiene una matriz.\n",
        "--------------------\n",
        "Ejemplo: Comprueba de cuentas dimensiones son las siguientes matrices.\n",
        "--------------------"
      ],
      "metadata": {
        "id": "r2bS7trXriOn"
      }
    },
    {
      "cell_type": "code",
      "source": [
        "import numpy as np\n",
        "\n",
        "arregloA=np.array(42)\n",
        "arregloB=np.array([1,2,3,4,5])\n",
        "arregloC=np.array([[1,2,3],[4,5,6]])\n",
        "arregloD=np.array([[[1,2,3],[4,5,6]],[[1,2,3],[4,5,6]]])\n",
        "\n",
        "print(arregloA.ndim)\n",
        "print(arregloB.ndim)\n",
        "print(arregloC.ndim)\n",
        "print(arregloD.ndim)"
      ],
      "metadata": {
        "colab": {
          "base_uri": "https://localhost:8080/"
        },
        "id": "A_CnlSotsqu-",
        "outputId": "af6af079-5f9a-4d9a-d103-28916d1fc4f3"
      },
      "execution_count": 3,
      "outputs": [
        {
          "output_type": "stream",
          "name": "stdout",
          "text": [
            "0\n",
            "1\n",
            "2\n",
            "3\n"
          ]
        }
      ]
    },
    {
      "cell_type": "markdown",
      "source": [
        "Matrices de dimenciones superiores\n",
        "Una matriz puede tener cualquier numero de dimenciones.Cuando se crea una matriz, puede definir el numero de dimenciones utilizando el argumento ndmin.\n",
        "Ejemplo:crea una matriz con 5 dimenciones y verifica que tenga las 5 dimenciones."
      ],
      "metadata": {
        "id": "X8GceBrVvA_F"
      }
    },
    {
      "cell_type": "code",
      "source": [
        "import numpy as np\n",
        "\n",
        "arreglo = np.array([1,2,3,4,5], ndmin = 5)\n",
        "\n",
        "print(arreglo)\n",
        "\n",
        "print(\"Numero de dimenciones: \". arreglo.ndim)"
      ],
      "metadata": {
        "colab": {
          "base_uri": "https://localhost:8080/",
          "height": 193
        },
        "id": "rxXsRV0fwNOg",
        "outputId": "29ce5c0c-e799-49ed-885d-862dc4591ba4"
      },
      "execution_count": 10,
      "outputs": [
        {
          "output_type": "stream",
          "name": "stdout",
          "text": [
            "[[[[[1 2 3 4 5]]]]]\n"
          ]
        },
        {
          "output_type": "error",
          "ename": "AttributeError",
          "evalue": "'str' object has no attribute 'arreglo'",
          "traceback": [
            "\u001b[0;31m---------------------------------------------------------------------------\u001b[0m",
            "\u001b[0;31mAttributeError\u001b[0m                            Traceback (most recent call last)",
            "\u001b[0;32m/tmp/ipython-input-2870485061.py\u001b[0m in \u001b[0;36m<cell line: 0>\u001b[0;34m()\u001b[0m\n\u001b[1;32m      5\u001b[0m \u001b[0mprint\u001b[0m\u001b[0;34m(\u001b[0m\u001b[0marreglo\u001b[0m\u001b[0;34m)\u001b[0m\u001b[0;34m\u001b[0m\u001b[0;34m\u001b[0m\u001b[0m\n\u001b[1;32m      6\u001b[0m \u001b[0;34m\u001b[0m\u001b[0m\n\u001b[0;32m----> 7\u001b[0;31m \u001b[0mprint\u001b[0m\u001b[0;34m(\u001b[0m\u001b[0;34m\"Numero de dimenciones: \"\u001b[0m\u001b[0;34m.\u001b[0m \u001b[0marreglo\u001b[0m\u001b[0;34m.\u001b[0m\u001b[0mndim\u001b[0m\u001b[0;34m)\u001b[0m\u001b[0;34m\u001b[0m\u001b[0;34m\u001b[0m\u001b[0m\n\u001b[0m",
            "\u001b[0;31mAttributeError\u001b[0m: 'str' object has no attribute 'arreglo'"
          ]
        }
      ]
    },
    {
      "cell_type": "markdown",
      "source": [
        "Ejercicio:conciderando la siguiente matriz\n",
        "\n",
        "arreglo=np.array([[1,2,3],[4,5,6]])\n",
        "\n",
        "¡cuantas dimenciones tiene?\n",
        "Respuesta="
      ],
      "metadata": {
        "id": "aP4uepk_yezO"
      }
    },
    {
      "cell_type": "markdown",
      "source": [
        "Numpy Indexacion de matrices\n",
        "Acceder a los elementos de una matriz\n",
        "La indexacion de matrices es lo mismo que\n",
        "acceder a un elemento de matriz.Puede\n",
        "accedera un elemento de la matrizhaciendo\n",
        "referencia a su numero de indice.Los\n",
        "indices en las matrices Numpy comienza en 0, lo que significa que el primer elemento tiene el indice 0 y el segundo tiene el indice1,etc.\n",
        "Ejemplo: obtenga el primer elemento de la siguiente matriz.\n",
        "------------------------"
      ],
      "metadata": {
        "id": "GnLojSXizTRp"
      }
    },
    {
      "cell_type": "code",
      "source": [
        "import numpy as np\n",
        "\n",
        "arreglo=np.array([1,2,3,4])\n",
        "\n",
        "print(arreglo[0])"
      ],
      "metadata": {
        "colab": {
          "base_uri": "https://localhost:8080/"
        },
        "id": "Zn1lCEub0-q_",
        "outputId": "261ca353-eb59-4451-aa71-2cfc8d0b62e8"
      },
      "execution_count": 11,
      "outputs": [
        {
          "output_type": "stream",
          "name": "stdout",
          "text": [
            "1\n"
          ]
        }
      ]
    }
  ]
}