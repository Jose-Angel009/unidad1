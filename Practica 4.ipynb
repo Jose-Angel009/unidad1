{
  "nbformat": 4,
  "nbformat_minor": 0,
  "metadata": {
    "colab": {
      "provenance": [],
      "authorship_tag": "ABX9TyP8bga7RfUJEw/AQbyPx9PD",
      "include_colab_link": true
    },
    "kernelspec": {
      "name": "python3",
      "display_name": "Python 3"
    },
    "language_info": {
      "name": "python"
    }
  },
  "cells": [
    {
      "cell_type": "markdown",
      "metadata": {
        "id": "view-in-github",
        "colab_type": "text"
      },
      "source": [
        "<a href=\"https://colab.research.google.com/github/Jose-Angel009/unidad1/blob/main/Practica%204.ipynb\" target=\"_parent\"><img src=\"https://colab.research.google.com/assets/colab-badge.svg\" alt=\"Open In Colab\"/></a>"
      ]
    },
    {
      "cell_type": "code",
      "execution_count": null,
      "metadata": {
        "id": "pCMBsfheWmXD"
      },
      "outputs": [],
      "source": []
    },
    {
      "cell_type": "markdown",
      "source": [
        "Actividad 14\n",
        "\n",
        "numpy(indexacion de matrices )acceder a elementos de una matriz la indexacion de matreicez es lo mismo que acceder a un elemento de una matriz , puede acceder a un elemento de una matriz aciendo referencia a su numero de indice. los indices en las matrices numpy comienzan en 0 , lo que significa que el primer elemento tiene indice 0, el segundo tiene indice 1 , el segundo tiene indice 2.\n",
        "\n",
        "Ejemplo:obtenga el primer elemento de la siguente matriz"
      ],
      "metadata": {
        "id": "_ZeVeImzW_oU"
      }
    },
    {
      "cell_type": "code",
      "source": [
        "import numpy as np\n",
        "arreglo = np.array ([1,2,3,.4,5])\n",
        "print(arreglo[0])"
      ],
      "metadata": {
        "colab": {
          "base_uri": "https://localhost:8080/"
        },
        "id": "URQyNRf6XRhz",
        "outputId": "98e0c61e-c317-45d8-b88f-89e9fbfab608"
      },
      "execution_count": 2,
      "outputs": [
        {
          "output_type": "stream",
          "name": "stdout",
          "text": [
            "1.0\n"
          ]
        }
      ]
    },
    {
      "cell_type": "code",
      "source": [
        "import numpy as np\n",
        "arreglo = np.array([6,7,8,9,10])\n",
        "print(arreglo[2])\n",
        "print(arreglo[3])"
      ],
      "metadata": {
        "colab": {
          "base_uri": "https://localhost:8080/"
        },
        "id": "r8TPCOwFX1n8",
        "outputId": "551de1bc-adc8-49af-e04e-9017e0f47c98"
      },
      "execution_count": 3,
      "outputs": [
        {
          "output_type": "stream",
          "name": "stdout",
          "text": [
            "8\n",
            "9\n"
          ]
        }
      ]
    },
    {
      "cell_type": "markdown",
      "source": [
        "Acceder a matrices 2d para acceder a elementos de matrices 2d, podemos utilizar numeros enteros separados por comas que rpresentan al numero de dimensiones y al indice del elemento\n",
        "\n",
        "Piense en matrices 2d como una tabla con filas y columnas , donde la dimension representa la fila y el indice representa la columna.\n",
        "\n",
        "Ejemplo:Realiza una matriz 2d con los siguientes arreglos\n",
        "lista1:1,2,3,4,5\n",
        "lista2:6,7,8,9,10"
      ],
      "metadata": {
        "id": "TnSdpP0qYChc"
      }
    },
    {
      "cell_type": "code",
      "source": [
        "import numpy as np\n",
        "arreglo = np.array([[1,2,3,4,5],[6,7,8,9,10]])\n",
        "print(arreglo[0,1])\n"
      ],
      "metadata": {
        "colab": {
          "base_uri": "https://localhost:8080/"
        },
        "id": "L19nWSmxYHsV",
        "outputId": "6135aa22-ec61-40fa-cf89-ed1ff022b9a7"
      },
      "execution_count": 4,
      "outputs": [
        {
          "output_type": "stream",
          "name": "stdout",
          "text": [
            "2\n"
          ]
        }
      ]
    }
  ]
}