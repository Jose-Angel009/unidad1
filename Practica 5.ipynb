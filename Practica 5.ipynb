{
  "nbformat": 4,
  "nbformat_minor": 0,
  "metadata": {
    "colab": {
      "provenance": [],
      "authorship_tag": "ABX9TyNDUgYU0jvqd6oOVYbbR2i1",
      "include_colab_link": true
    },
    "kernelspec": {
      "name": "python3",
      "display_name": "Python 3"
    },
    "language_info": {
      "name": "python"
    }
  },
  "cells": [
    {
      "cell_type": "markdown",
      "metadata": {
        "id": "view-in-github",
        "colab_type": "text"
      },
      "source": [
        "<a href=\"https://colab.research.google.com/github/Jose-Angel009/unidad1/blob/main/Practica%205.ipynb\" target=\"_parent\"><img src=\"https://colab.research.google.com/assets/colab-badge.svg\" alt=\"Open In Colab\"/></a>"
      ]
    },
    {
      "cell_type": "markdown",
      "source": [
        "Lista 1"
      ],
      "metadata": {
        "id": "Y3G3QVsK7K7C"
      }
    },
    {
      "cell_type": "code",
      "execution_count": 6,
      "metadata": {
        "colab": {
          "base_uri": "https://localhost:8080/"
        },
        "id": "M9yqMlGs09o1",
        "outputId": "64846c86-5ad3-4413-fffe-e041f328d874"
      },
      "outputs": [
        {
          "output_type": "stream",
          "name": "stdout",
          "text": [
            "La media es: 39.125\n"
          ]
        }
      ],
      "source": [
        "import numpy as np\n",
        "\n",
        "datos = np.array([12,21,23,34,45,55,56,67])\n",
        "\n",
        "media = np.mean(datos)\n",
        "\n",
        "print(f\"La media es: {media}\")\n"
      ]
    },
    {
      "cell_type": "code",
      "source": [
        "\n",
        "import numpy as np\n",
        "\n",
        "datos = np.array([12,21,23,34,45,55,56,67])\n",
        "\n",
        "mediana = np.median(datos)\n",
        "\n",
        "print(f\"La mediana es: {mediana}\")\n"
      ],
      "metadata": {
        "colab": {
          "base_uri": "https://localhost:8080/"
        },
        "id": "vKWu6w-M24s8",
        "outputId": "cad8a935-7faa-4e07-e602-79343fa9744f"
      },
      "execution_count": 11,
      "outputs": [
        {
          "output_type": "stream",
          "name": "stdout",
          "text": [
            "La mediana es: 39.5\n"
          ]
        }
      ]
    },
    {
      "cell_type": "code",
      "source": [
        "import numpy as np\n",
        "from scipy import stats\n",
        "\n",
        "datos = np.array([12, 21, 23, 34, 45, 55, 56, 67])\n",
        "\n",
        "moda = stats.mode(datos, keepdims=False)\n",
        "\n",
        "print(f\"La moda es: {moda.mode} y se repite {moda.count} veces.\")\n",
        "\n"
      ],
      "metadata": {
        "colab": {
          "base_uri": "https://localhost:8080/"
        },
        "id": "WJWdriLE3S5c",
        "outputId": "b8f40bb5-58c0-490b-9232-fffeacc6cfae"
      },
      "execution_count": 13,
      "outputs": [
        {
          "output_type": "stream",
          "name": "stdout",
          "text": [
            "La moda es: 12 y se repite 1 veces.\n"
          ]
        }
      ]
    },
    {
      "cell_type": "markdown",
      "source": [
        "Lista 2"
      ],
      "metadata": {
        "id": "wxTCuYQX7JvR"
      }
    },
    {
      "cell_type": "code",
      "source": [
        "import numpy as np\n",
        "\n",
        "datos = np.array([10, 20, 30, 40, 20, 50, 20])\n",
        "\n",
        "media = np.mean(datos)\n",
        "\n",
        "print(f\"La media es: {media}\")"
      ],
      "metadata": {
        "colab": {
          "base_uri": "https://localhost:8080/"
        },
        "id": "xgRpjzjh7PBR",
        "outputId": "25b59652-1580-45df-ba09-ec72aa7e1cae"
      },
      "execution_count": 14,
      "outputs": [
        {
          "output_type": "stream",
          "name": "stdout",
          "text": [
            "La media es: 27.142857142857142\n"
          ]
        }
      ]
    },
    {
      "cell_type": "code",
      "source": [
        "import numpy as np\n",
        "\n",
        "datos = np.array([10, 20, 30, 40, 20, 50, 20])\n",
        "\n",
        "mediana = np.median(datos)\n",
        "\n",
        "print(f\"La mediana es: {mediana}\")"
      ],
      "metadata": {
        "colab": {
          "base_uri": "https://localhost:8080/"
        },
        "id": "0IaBB4iJ7gUx",
        "outputId": "abea2938-73d7-42d1-fa6d-291bdece404a"
      },
      "execution_count": 15,
      "outputs": [
        {
          "output_type": "stream",
          "name": "stdout",
          "text": [
            "La mediana es: 20.0\n"
          ]
        }
      ]
    },
    {
      "cell_type": "code",
      "source": [
        "import numpy as np\n",
        "from scipy import stats\n",
        "\n",
        "datos = np.array([10, 20, 30, 40, 20, 50, 20])\n",
        "\n",
        "moda = stats.mode(datos, keepdims=False)\n",
        "\n",
        "print(f\"La moda es: {moda.mode} y se repite {moda.count} veces.\")"
      ],
      "metadata": {
        "colab": {
          "base_uri": "https://localhost:8080/"
        },
        "id": "R9pt3qFA7niK",
        "outputId": "a82cc46c-dad5-443e-f19a-d3d36905117b"
      },
      "execution_count": 16,
      "outputs": [
        {
          "output_type": "stream",
          "name": "stdout",
          "text": [
            "La moda es: 20 y se repite 3 veces.\n"
          ]
        }
      ]
    },
    {
      "cell_type": "code",
      "source": [
        "import numpy as np\n",
        "from scipy import stats\n",
        "\n",
        "datos = np.array([10, 20, 30, 40, 20, 50, 20])\n",
        "\n",
        "moda = stats.mode(datos, keepdims=False)\n",
        "\n",
        "print(f\"La moda es: {moda.mode} y se repite {moda.count} veces.\")"
      ],
      "metadata": {
        "colab": {
          "base_uri": "https://localhost:8080/"
        },
        "id": "sI_vjclD7rh5",
        "outputId": "38282d1f-b9f5-44e5-acdb-c52d3fd1ed5c"
      },
      "execution_count": 18,
      "outputs": [
        {
          "output_type": "stream",
          "name": "stdout",
          "text": [
            "La moda es: 20 y se repite 3 veces.\n"
          ]
        }
      ]
    },
    {
      "cell_type": "markdown",
      "source": [
        "Lista 3"
      ],
      "metadata": {
        "id": "X4RaU0ir7-nZ"
      }
    },
    {
      "cell_type": "code",
      "source": [
        "import numpy as np\n",
        "\n",
        "datos = np.array([10, 20, 30, 40, 50])\n",
        "\n",
        "media = np.mean(datos)\n",
        "\n",
        "print(f\"La media es: {media}\")"
      ],
      "metadata": {
        "colab": {
          "base_uri": "https://localhost:8080/"
        },
        "id": "2TQFke1H7zUR",
        "outputId": "b5477bef-3269-423a-8d52-c5a7ba40a386"
      },
      "execution_count": 19,
      "outputs": [
        {
          "output_type": "stream",
          "name": "stdout",
          "text": [
            "La media es: 30.0\n"
          ]
        }
      ]
    },
    {
      "cell_type": "code",
      "source": [
        "import numpy as np\n",
        "from scipy import stats\n",
        "\n",
        "datos = np.array([10, 20, 30, 40, 50])\n",
        "\n",
        "moda = stats.mode(datos, keepdims=False)\n",
        "\n",
        "print(f\"La moda es: {moda.mode} y se repite {moda.count} veces.\")"
      ],
      "metadata": {
        "colab": {
          "base_uri": "https://localhost:8080/"
        },
        "id": "KyBKyg2U8I_h",
        "outputId": "6b1b292f-ec54-4332-9168-317e6cc6ec4e"
      },
      "execution_count": 20,
      "outputs": [
        {
          "output_type": "stream",
          "name": "stdout",
          "text": [
            "La moda es: 10 y se repite 1 veces.\n"
          ]
        }
      ]
    },
    {
      "cell_type": "code",
      "source": [
        "import numpy as np\n",
        "from scipy import stats\n",
        "\n",
        "datos = np.array([10, 20, 30, 40, 50])\n",
        "\n",
        "moda = stats.mode(datos, keepdims=False)\n",
        "\n",
        "print(f\"La moda es: {moda.mode} y se repite {moda.count} veces.\")"
      ],
      "metadata": {
        "colab": {
          "base_uri": "https://localhost:8080/"
        },
        "id": "lO5a6HcF8Qw5",
        "outputId": "b3ee86f3-9ab8-48ab-bd48-f017485e9ea4"
      },
      "execution_count": 21,
      "outputs": [
        {
          "output_type": "stream",
          "name": "stdout",
          "text": [
            "La moda es: 10 y se repite 1 veces.\n"
          ]
        }
      ]
    }
  ]
}