{
  "nbformat": 4,
  "nbformat_minor": 0,
  "metadata": {
    "colab": {
      "provenance": [],
      "authorship_tag": "ABX9TyMPFgg/aHXS56NQadCfRnsE",
      "include_colab_link": true
    },
    "kernelspec": {
      "name": "python3",
      "display_name": "Python 3"
    },
    "language_info": {
      "name": "python"
    }
  },
  "cells": [
    {
      "cell_type": "markdown",
      "metadata": {
        "id": "view-in-github",
        "colab_type": "text"
      },
      "source": [
        "<a href=\"https://colab.research.google.com/github/Jose-Angel009/unidad1/blob/main/Ejemplo.ipynb\" target=\"_parent\"><img src=\"https://colab.research.google.com/assets/colab-badge.svg\" alt=\"Open In Colab\"/></a>"
      ]
    },
    {
      "cell_type": "code",
      "execution_count": null,
      "metadata": {
        "id": "MZH-6_UcwnWb"
      },
      "outputs": [],
      "source": []
    },
    {
      "cell_type": "markdown",
      "source": [
        "solicitar dos numeros al usuarioy sumarlo"
      ],
      "metadata": {
        "id": "AjtM8CZyznw1"
      }
    },
    {
      "cell_type": "markdown",
      "source": [
        "Prueba de Colab Python"
      ],
      "metadata": {
        "id": "f7g9AdLyxhcQ"
      }
    },
    {
      "cell_type": "code",
      "source": [
        "print(\"Hola mundo\")"
      ],
      "metadata": {
        "colab": {
          "base_uri": "https://localhost:8080/"
        },
        "id": "8Jz7w_AO2-60",
        "outputId": "59c361aa-15d8-4ad4-b208-26d8259cedfe"
      },
      "execution_count": 5,
      "outputs": [
        {
          "output_type": "stream",
          "name": "stdout",
          "text": [
            "Hola mundo\n"
          ]
        }
      ]
    },
    {
      "cell_type": "markdown",
      "source": [
        "variables en python"
      ],
      "metadata": {
        "id": "4mShchKw3GAD"
      }
    },
    {
      "cell_type": "code",
      "source": [
        "nombre=\"Angel\"\n",
        "paterno=\"Velazquez\"\n",
        "materno=\"Ortiz\"\n",
        "edad=17\n",
        "estatura=1,69\n",
        "\n",
        "print(nombre,paterno,materno,edad,estatura)"
      ],
      "metadata": {
        "colab": {
          "base_uri": "https://localhost:8080/"
        },
        "id": "krF3YM5S3KXb",
        "outputId": "4bb1db91-8748-4236-cb6b-aa19b1dd8a91"
      },
      "execution_count": 6,
      "outputs": [
        {
          "output_type": "stream",
          "name": "stdout",
          "text": [
            "Angel Velazquez Ortiz 17 (1, 69)\n"
          ]
        }
      ]
    },
    {
      "cell_type": "markdown",
      "source": [
        "solicitar 2 numeros al usuario y sumarlos"
      ],
      "metadata": {
        "id": "FemgUk9Q3jLr"
      }
    },
    {
      "cell_type": "code",
      "source": [
        "numero1=int(input(\"ingresa el primer numero\"))\n",
        "numero2=int(input(\"ingresar el numero 2\"))\n",
        "suma=numero1 + numero2\n",
        "print(\"suma=\",suma)"
      ],
      "metadata": {
        "colab": {
          "base_uri": "https://localhost:8080/"
        },
        "id": "N_JWYDAt3qQ7",
        "outputId": "cbdb31bc-3713-4d82-f1c2-dd3bb6ff52e0"
      },
      "execution_count": 7,
      "outputs": [
        {
          "output_type": "stream",
          "name": "stdout",
          "text": [
            "ingresa el primer numero3\n",
            "ingresar el numero 217\n",
            "suma= 20\n"
          ]
        }
      ]
    }
  ]
}