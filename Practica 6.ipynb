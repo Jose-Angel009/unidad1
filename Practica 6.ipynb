{
  "nbformat": 4,
  "nbformat_minor": 0,
  "metadata": {
    "colab": {
      "provenance": [],
      "authorship_tag": "ABX9TyNIMMvyO3F0UiIy8AG55Fzc",
      "include_colab_link": true
    },
    "kernelspec": {
      "name": "python3",
      "display_name": "Python 3"
    },
    "language_info": {
      "name": "python"
    }
  },
  "cells": [
    {
      "cell_type": "markdown",
      "metadata": {
        "id": "view-in-github",
        "colab_type": "text"
      },
      "source": [
        "<a href=\"https://colab.research.google.com/github/Jose-Angel009/unidad1/blob/main/Practica%206.ipynb\" target=\"_parent\"><img src=\"https://colab.research.google.com/assets/colab-badge.svg\" alt=\"Open In Colab\"/></a>"
      ]
    },
    {
      "cell_type": "code",
      "execution_count": null,
      "metadata": {
        "id": "4KQmSSHrDJKp"
      },
      "outputs": [],
      "source": []
    },
    {
      "cell_type": "markdown",
      "source": [
        "Jose Angel Velazuez ortiz - 24 de septiembre de 2025\n",
        "Practica 6 - Cortar Arreglos NumPy\n",
        "----------------------------------\n",
        "Slice en Python significa tomar elementos de un indice determinado indice.\n",
        "\n",
        "Pasamos Slice en lugar del indice de esta manera:[stard:end]\n",
        "Sino pasamos el inicio se concidera 0\n",
        "Sino pasamos el final su longitud es concideradauna matriz de unadimencio\n",
        "----------------\n",
        "Ejemplo:([1,2,3,4,5,6,7])\n",
        "Cortar los elementos del indice 1 al indice 5      \n",
        "---------\n"
      ],
      "metadata": {
        "id": "leakwUv3DRyA"
      }
    },
    {
      "cell_type": "code",
      "source": [
        "import numpy as np\n",
        "\n",
        "arreglo=np.array([1,2,3,4,5,6,7])\n",
        "\n",
        "print(arreglo[1:5])"
      ],
      "metadata": {
        "colab": {
          "base_uri": "https://localhost:8080/"
        },
        "id": "-ktwuAhQKZqb",
        "outputId": "ca427a3f-9f20-4c7e-fc6a-9694853b6b31"
      },
      "execution_count": 2,
      "outputs": [
        {
          "output_type": "stream",
          "name": "stdout",
          "text": [
            "[2 3 4 5]\n"
          ]
        }
      ]
    },
    {
      "cell_type": "markdown",
      "source": [
        "Ejemplo 2:\n",
        "([1,2,3,4,5,6,7])\n",
        "cortar del indice 4 hasta el final de la matriz\n",
        "-----------------------"
      ],
      "metadata": {
        "id": "WRhsPGBZLKQy"
      }
    },
    {
      "cell_type": "code",
      "source": [
        "import numpy as np\n",
        "\n",
        "arreglo=np.array([1,2,3,4,5,6,7])\n",
        "\n",
        "print(arreglo[4:])"
      ],
      "metadata": {
        "colab": {
          "base_uri": "https://localhost:8080/"
        },
        "id": "Rktsa1ajLhNV",
        "outputId": "97aae9d8-7935-4292-bedf-6d01026e9612"
      },
      "execution_count": 8,
      "outputs": [
        {
          "output_type": "stream",
          "name": "stdout",
          "text": [
            "[5 6 7]\n"
          ]
        }
      ]
    },
    {
      "cell_type": "markdown",
      "source": [
        "Ejemplo 3\n",
        "([1,2,3,4,5,6,7])\n",
        "Cortar elementos desde el principio hasta el indice 5"
      ],
      "metadata": {
        "id": "EFIYJPa8MJfz"
      }
    },
    {
      "cell_type": "code",
      "source": [
        "import numpy as np\n",
        "\n",
        "arreglo=np.array([1,2,3,4,5,6,7])\n",
        "\n",
        "print(arreglo[:5])"
      ],
      "metadata": {
        "colab": {
          "base_uri": "https://localhost:8080/"
        },
        "id": "orm99JsKMaIs",
        "outputId": "04a02410-200e-4590-9f7d-079c00cc8f1a"
      },
      "execution_count": 17,
      "outputs": [
        {
          "output_type": "stream",
          "name": "stdout",
          "text": [
            "[1 2 3 4 5]\n"
          ]
        }
      ]
    },
    {
      "cell_type": "markdown",
      "source": [
        "Ejemplo 4\n",
        "\n",
        "([1,2,3,4,5,6,7])\n",
        "Corte negativo.Untilizamos el operador \"menos\" para hacer referencia a un indice desde el final\n",
        "------------------------\n",
        "Cortar desde el indice 3 hasta el final al indice 1desde el final"
      ],
      "metadata": {
        "id": "-vyQoUYUM3q4"
      }
    },
    {
      "cell_type": "code",
      "source": [
        "import numpy as np\n",
        "\n",
        "arreglo=np.array([1,2,3,4,5,6,7])\n",
        "\n",
        "print(arreglo[-3:-1])"
      ],
      "metadata": {
        "colab": {
          "base_uri": "https://localhost:8080/"
        },
        "id": "5PtBLootNc5e",
        "outputId": "4f99f2d4-460f-4797-ed01-8866662bcdab"
      },
      "execution_count": 20,
      "outputs": [
        {
          "output_type": "stream",
          "name": "stdout",
          "text": [
            "[5 6]\n"
          ]
        }
      ]
    }
  ]
}