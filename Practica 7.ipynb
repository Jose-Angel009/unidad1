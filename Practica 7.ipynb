{
  "nbformat": 4,
  "nbformat_minor": 0,
  "metadata": {
    "colab": {
      "provenance": [],
      "authorship_tag": "ABX9TyP5maa2BxUeFQ5Pgiakx0Pu",
      "include_colab_link": true
    },
    "kernelspec": {
      "name": "python3",
      "display_name": "Python 3"
    },
    "language_info": {
      "name": "python"
    }
  },
  "cells": [
    {
      "cell_type": "markdown",
      "metadata": {
        "id": "view-in-github",
        "colab_type": "text"
      },
      "source": [
        "<a href=\"https://colab.research.google.com/github/Jose-Angel009/unidad1/blob/main/Practica%207.ipynb\" target=\"_parent\"><img src=\"https://colab.research.google.com/assets/colab-badge.svg\" alt=\"Open In Colab\"/></a>"
      ]
    },
    {
      "cell_type": "markdown",
      "source": [
        "Jose Angel Velazquez ortiz-Practica 7-25 de septiembre 2025.\n",
        "-----------------------\n",
        "Slicing NumpPy\n",
        "-----------------------\n",
        "Utilice STEP para determinar el paso de el corte:\n",
        "Ejemplo:([1,2,3,4,5,6,7])-Devuelve todos los elementos del indice 1 al indice 5"
      ],
      "metadata": {
        "id": "dL46xDViHcFR"
      }
    },
    {
      "cell_type": "code",
      "execution_count": 1,
      "metadata": {
        "colab": {
          "base_uri": "https://localhost:8080/"
        },
        "id": "znJfy3N0GbKQ",
        "outputId": "fb8ae9a8-2eb2-41e9-e981-397281762d01"
      },
      "outputs": [
        {
          "output_type": "stream",
          "name": "stdout",
          "text": [
            "[2 4]\n"
          ]
        }
      ],
      "source": [
        "import numpy as np\n",
        "arreglo = np.array([1,2,3,4,5,6,7])\n",
        "print(arreglo[1:5:2])"
      ]
    },
    {
      "cell_type": "markdown",
      "source": [
        "Ejemplo 2:([1,2,3,4,5,6,7])\n",
        "Devuelve los elementos de la matriz\n",
        ""
      ],
      "metadata": {
        "id": "VjVNqqhPIwfw"
      }
    },
    {
      "cell_type": "code",
      "source": [
        "import numpy as np\n",
        "arreglo = np.array([1,2,3,4,5,6,7])\n",
        "print(arreglo[::2])"
      ],
      "metadata": {
        "colab": {
          "base_uri": "https://localhost:8080/"
        },
        "id": "ltgPtKk9I-mY",
        "outputId": "3ea54ca4-ad7c-4e42-a72e-5e3a0d5f1e10"
      },
      "execution_count": 2,
      "outputs": [
        {
          "output_type": "stream",
          "name": "stdout",
          "text": [
            "[1 3 5 7]\n"
          ]
        }
      ]
    },
    {
      "cell_type": "markdown",
      "source": [
        "Sislice de matrices 2D\n",
        "--------------------------\n",
        "Ejemplo 3:([[1,2,3,4,5], [6,7,8,9,10]])\n",
        "DEl segundo elemento,"
      ],
      "metadata": {
        "id": "z2HmBIiXJxjI"
      }
    },
    {
      "cell_type": "code",
      "source": [
        "import numpy as np\n",
        "arreglo=np.array([[1,2,3,4,5], [6,7,8,9,10]])\n",
        "print(arreglo[1,1:4:])"
      ],
      "metadata": {
        "colab": {
          "base_uri": "https://localhost:8080/"
        },
        "id": "xfmGtl2wLcW_",
        "outputId": "e4b52d08-e83b-41e8-a83f-0e0a90076ff5"
      },
      "execution_count": 10,
      "outputs": [
        {
          "output_type": "stream",
          "name": "stdout",
          "text": [
            "[7 8 9]\n"
          ]
        }
      ]
    },
    {
      "cell_type": "markdown",
      "source": [
        "Ejemplo 4: ([[1,2,3,4,5],[6,7,8,9,10]])\n",
        "De ambos elementos devuelve el incice 2\n",
        "-------------------------\n"
      ],
      "metadata": {
        "id": "nlQOBZmrNHUf"
      }
    },
    {
      "cell_type": "code",
      "source": [
        "import numpy as np\n",
        "arreglo=np.array([[1,2,3,4,5], [6,7,8,9,10]])\n",
        "print(arreglo[0:2,2])"
      ],
      "metadata": {
        "colab": {
          "base_uri": "https://localhost:8080/"
        },
        "id": "j0JLh5xSNZQ3",
        "outputId": "d2133a8e-bddd-497a-cdf9-47799cb642a1"
      },
      "execution_count": 13,
      "outputs": [
        {
          "output_type": "stream",
          "name": "stdout",
          "text": [
            "[3 8]\n"
          ]
        }
      ]
    },
    {
      "cell_type": "markdown",
      "source": [
        "Ejemplo 5:([[1,2,3,4,5], [6,7,8,9,10]])\n",
        "DE ambos elementos corta el indice 1 al indice 4"
      ],
      "metadata": {
        "id": "EEscFz-cOJOX"
      }
    },
    {
      "cell_type": "code",
      "source": [
        "import numpy as np\n",
        "arreglo=np.array([[1,2,3,4,5], [6,7,8,9,10]])\n",
        "print(arreglo[0:4,1:4])"
      ],
      "metadata": {
        "colab": {
          "base_uri": "https://localhost:8080/"
        },
        "id": "hIvSeLiMOV6W",
        "outputId": "ae5c601b-1e25-4c54-ba00-f25b633f9d21"
      },
      "execution_count": 15,
      "outputs": [
        {
          "output_type": "stream",
          "name": "stdout",
          "text": [
            "[[2 3 4]\n",
            " [7 8 9]]\n"
          ]
        }
      ]
    },
    {
      "cell_type": "markdown",
      "source": [
        "Ejemplo 1- Autonomo\n",
        "Del siguiente arreglo,¿cual es el resultado?\n",
        "([1,2,3,4,5,6,7,])\n",
        "Corta del 1er elemento al 3er elemento con paso 2"
      ],
      "metadata": {
        "id": "KKpQW7YyPTEG"
      }
    },
    {
      "cell_type": "code",
      "source": [
        "import numpy as np\n",
        "arreglo=np.array([1,2,3,4,5,6,7])\n",
        "print(arreglo[0:6:2])"
      ],
      "metadata": {
        "colab": {
          "base_uri": "https://localhost:8080/"
        },
        "id": "0US7dq6yPssG",
        "outputId": "9582085e-2b84-4f01-c1b1-6749a2f4d302"
      },
      "execution_count": 22,
      "outputs": [
        {
          "output_type": "stream",
          "name": "stdout",
          "text": [
            "[1 3 5]\n"
          ]
        }
      ]
    }
  ]
}